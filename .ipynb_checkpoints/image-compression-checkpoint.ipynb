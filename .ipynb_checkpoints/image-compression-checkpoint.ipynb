{
 "cells": [
  {
   "cell_type": "code",
   "execution_count": 1,
   "id": "e93866d3",
   "metadata": {},
   "outputs": [],
   "source": [
    "import torch\n",
    "import cv2\n",
    "import numpy as np"
   ]
  },
  {
   "cell_type": "code",
   "execution_count": null,
   "id": "43dc9a1c",
   "metadata": {},
   "outputs": [],
   "source": [
    "# Reading an image from a given file path--in greyscale\n",
    "def read_image(file_path):\n",
    "    img = cv2.imread(file_path, cv2.IMREAD_GRAYSCALE)\n",
    "    return img"
   ]
  },
  {
   "cell_type": "markdown",
   "id": "e06f439f",
   "metadata": {},
   "source": [
    "The reason for greyscale is that greyscale images have only one channel: intensity,\n",
    "ranging from 0 (black) to 255 (white). So we are working with a 2D vector of pixels, \n",
    "which has a single value for intensty"
   ]
  },
  {
   "cell_type": "code",
   "execution_count": null,
   "id": "35c16910",
   "metadata": {},
   "outputs": [],
   "source": [
    "# Normalizing intensities\n",
    "def normalize_image(img):\n",
    "    img_normalized = img / 255.0 # Making intensity ranges [0, 1]\n",
    "    return img_normalized"
   ]
  },
  {
   "cell_type": "markdown",
   "id": "d8d5406a",
   "metadata": {},
   "source": [
    "Normalizing the pixel values helps to stabilize the computations during \n",
    "the SVD decomposition and reconstruction. Since the values are now in the range [0, 1], \n",
    "they are less likely to cause numerical instability or large variations during the SVD process."
   ]
  },
  {
   "cell_type": "code",
   "execution_count": null,
   "id": "8c015d5f",
   "metadata": {},
   "outputs": [],
   "source": [
    "# SVD decomposition after normalization\n",
    "def svd_decomposition(img_normalized):\n",
    "    U, S, V = torch.svd(torch.tensor(img_normalized, dtype=torch.float32))\n",
    "    return U, S, V"
   ]
  },
  {
   "cell_type": "markdown",
   "id": "bb64d697",
   "metadata": {},
   "source": [
    "The PyTorch library handles the singular value decomposition! We just need to store the matrices U,S,V."
   ]
  },
  {
   "cell_type": "code",
   "execution_count": null,
   "id": "11a68f17",
   "metadata": {},
   "outputs": [],
   "source": [
    "# Function to compress an image using a specified number of singular values\n",
    "def compress_image(U, S, V, num_singular_values):\n",
    "    compressed_U = U[:, :num_singular_values] # The first num_singular_rows columns of U\n",
    "    compressed_S = torch.diag(S[:num_singular_values]) # Diagonal matrix with the first num_singular_values of S\n",
    "    compressed_V = V[:, :num_singular_values].T # The first num_singular_values rows of V and transposes it\n",
    "    return compressed_U, compressed_S, compressed_V"
   ]
  },
  {
   "cell_type": "markdown",
   "id": "f97bd577",
   "metadata": {},
   "source": [
    "This code just takes a specified number, num_singular_values, and does the following:\n",
    "    1) Takes the first num_singular_columns of U\n",
    "    2) Turns S into a diagonal matrix that has the first num_singular_values singular values\n",
    "    3) Takes the first num_singular_values rows of V and transposes it because we need V^T"
   ]
  },
  {
   "cell_type": "code",
   "execution_count": null,
   "id": "40c82a27",
   "metadata": {},
   "outputs": [],
   "source": [
    "# Reconstruct an image from its compressed SVD components\n",
    "def reconstruct_image(compressed_U, compressed_S, compressed_V):\n",
    "    # The below line is basically multiplying the compressed U S V\n",
    "    # mm stands for \"matrix multiplication\"\n",
    "    img_compressed = torch.mm(compressed_U, torch.mm(compressed_S, compressed_V))\n",
    "    \n",
    "    # The line below looks comlicated, but it just converts the normalized image\n",
    "    # back to an image with pixel values [0, 255]\n",
    "    img_reconstructed = (img_compressed * 255).clamp(0, 255).numpy().astype(np.uint8)\n",
    "    return img_reconstructed"
   ]
  },
  {
   "cell_type": "markdown",
   "id": "5ee72d0b",
   "metadata": {},
   "source": [
    "The code above basically multiplies the \"compressed\" matrices. Then, since the image was previosly\n",
    "normalized by dividing by 255, this time we multiply by 255 to get it back to the greyscale image format.\n",
    "Finally, we return the image. The intensity entries are again in range [0, 255], integers."
   ]
  },
  {
   "cell_type": "code",
   "execution_count": null,
   "id": "108c2e37",
   "metadata": {},
   "outputs": [],
   "source": [
    "# Save the file\n",
    "def save_image(img, file_path):\n",
    "    cv2.imwrite(file_path, img)"
   ]
  },
  {
   "cell_type": "code",
   "execution_count": null,
   "id": "e391aa32",
   "metadata": {},
   "outputs": [],
   "source": [
    "input_file = \"/Users/hbzengin/src/michigan/math214/image_compression/cat.jpeg\"\n",
    "greyscale_file = \"/Users/hbzengin/src/michigan/math214/image_compression/cat-greyscale.jpeg\"\n",
    "output_file = \"/Users/hbzengin/src/michigan/math214/image_compression/cat-compressed.jpeg\"\n",
    "\n",
    "# The value here determines the compression amount. The smaller it is, the greater the compression\n",
    "num_singular_values = 10"
   ]
  },
  {
   "cell_type": "code",
   "execution_count": null,
   "id": "aed6af93",
   "metadata": {},
   "outputs": [],
   "source": [
    "img = read_image(input_file)\n",
    "save_image(img, \"/Users/hbzengin/src/michigan/math214/image_compression/cat-greyscale.jpeg\") # turning old to greyscale and saving"
   ]
  },
  {
   "cell_type": "code",
   "execution_count": null,
   "id": "84a936de",
   "metadata": {},
   "outputs": [],
   "source": [
    "def main():\n",
    "    \n",
    "    # Calling previously defined functions below\n",
    "    \n",
    "    img_normalized = normalize_image(img)\n",
    "    \n",
    "    # SVD and compression\n",
    "    U, S, V = svd_decomposition(img_normalized)\n",
    "    compressed_U, compressed_S, compressed_V = compress_image(U, S, V, num_singular_values)\n",
    "    \n",
    "    # Reconstruction and saving\n",
    "    img_reconstructed = reconstruct_image(compressed_U, compressed_S, compressed_V)\n",
    "    save_image(img_reconstructed, output_file)\n",
    "    \n",
    "if __name__ == \"__main__\":\n",
    "    main()\n"
   ]
  },
  {
   "cell_type": "code",
   "execution_count": null,
   "id": "beaa7133",
   "metadata": {},
   "outputs": [],
   "source": [
    "import os # to show the size of the image before and after compression\n",
    "from IPython.display import Image # to display the actual image"
   ]
  },
  {
   "cell_type": "code",
   "execution_count": null,
   "id": "bb39caa8",
   "metadata": {},
   "outputs": [],
   "source": [
    "Image(greyscale_file)"
   ]
  },
  {
   "cell_type": "code",
   "execution_count": null,
   "id": "f968bcff",
   "metadata": {},
   "outputs": [],
   "source": [
    "old_size = (os.path.getsize(greyscale_file) / (1024*1024))# this function returns bytes, converting to megabytes\n",
    "\n",
    "print(f\"The old size of the image is {old_size: .2f} megabytes\")"
   ]
  },
  {
   "cell_type": "code",
   "execution_count": null,
   "id": "54429313",
   "metadata": {},
   "outputs": [],
   "source": [
    "Image(filename='/Users/hbzengin/src/michigan/math214/image_compression/cat-compressed.jpeg')"
   ]
  },
  {
   "cell_type": "code",
   "execution_count": null,
   "id": "e51a477a",
   "metadata": {},
   "outputs": [],
   "source": [
    "new_size = (os.path.getsize(output_file) / (1024*1024))# this function returns bytes, converting to megabytes\n",
    "\n",
    "print(f\"The new size of the image is {new_size: .2f} megabytes\")"
   ]
  }
 ],
 "metadata": {
  "kernelspec": {
   "display_name": "env",
   "language": "python",
   "name": "env"
  },
  "language_info": {
   "codemirror_mode": {
    "name": "ipython",
    "version": 3
   },
   "file_extension": ".py",
   "mimetype": "text/x-python",
   "name": "python",
   "nbconvert_exporter": "python",
   "pygments_lexer": "ipython3",
   "version": "3.11.4"
  }
 },
 "nbformat": 4,
 "nbformat_minor": 5
}
